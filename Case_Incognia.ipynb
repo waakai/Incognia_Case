{
 "cells": [
  {
   "cell_type": "markdown",
   "id": "3a17e0f9-76b5-47d0-b88a-1a3840d0c2db",
   "metadata": {
    "tags": []
   },
   "source": [
    "# Section 1 - Libs Import"
   ]
  },
  {
   "cell_type": "code",
   "execution_count": 2,
   "id": "ef7d7481-fb03-4c6e-8cd5-cae8f87b5a81",
   "metadata": {
    "tags": []
   },
   "outputs": [],
   "source": [
    "import csv\n",
    "import pandas as pd\n",
    "import matplotlib.pyplot as plt\n",
    "import seaborn as sns\n",
    "from datetime import datetime\n",
    "from sklearn.model_selection import train_test_split\n",
    "from sklearn.linear_model import LinearRegression\n",
    "from sklearn.metrics import mean_squared_error\n",
    "from sklearn.preprocessing import OneHotEncoder\n",
    "from sklearn.impute import SimpleImputer\n",
    "import numpy as np\n",
    "import os\n",
    "import pandas as pd\n",
    "from sklearn.model_selection import train_test_split\n",
    "from sklearn.metrics import mean_squared_error\n",
    "from sklearn.impute import SimpleImputer"
   ]
  },
  {
   "cell_type": "code",
   "execution_count": 3,
   "id": "4beb1b94-20fa-4ea0-8281-28e55f2c25ce",
   "metadata": {
    "tags": []
   },
   "outputs": [],
   "source": [
    "pd.set_option('display.float_format', lambda x: '%.3f' % x)"
   ]
  },
  {
   "cell_type": "markdown",
   "id": "63afcd0e-f9d0-49ba-b5e3-0fe144e3d63e",
   "metadata": {
    "tags": []
   },
   "source": [
    "# Section 2 - Datasets Import"
   ]
  },
  {
   "cell_type": "markdown",
   "id": "789c3b42-ef2d-481e-9a1a-920c32520c42",
   "metadata": {
    "tags": []
   },
   "source": [
    "## Section 2.1 - Transactions Dataset Import"
   ]
  },
  {
   "cell_type": "code",
   "execution_count": 4,
   "id": "704a460d-8886-459e-83e2-751a5f6d2c30",
   "metadata": {
    "tags": []
   },
   "outputs": [
    {
     "name": "stdout",
     "output_type": "stream",
     "text": [
      "Tamanho do DataFrame (linhas, colunas): (409428, 12)\n",
      "Tamanho do DataFrame (linhas, colunas): (409428, 12)\n"
     ]
    }
   ],
   "source": [
    "caminho_arquivo = 'C:/Geral/Python/Case Incognia/Transacoes/Victor Wakai _ BASE 1 incognia-digital-banking-transactions - incognia-digital-banking-transactions.csv'\n",
    "\n",
    "df_transac = pd.read_csv(caminho_arquivo)\n",
    "\n",
    "df_transac.head(4)\n",
    "\n",
    "tamanho_do_dataframe = df_transac.shape\n",
    "print(\"Tamanho do DataFrame (linhas, colunas):\", tamanho_do_dataframe)\n",
    "\n",
    "df_transac = df_transac.drop_duplicates()\n",
    "\n",
    "tamanho_do_dataframe = df_transac.shape\n",
    "print(\"Tamanho do DataFrame (linhas, colunas):\", tamanho_do_dataframe)"
   ]
  },
  {
   "cell_type": "markdown",
   "id": "50eecc60-2d21-4ad9-ab05-fd57f89d97f6",
   "metadata": {
    "tags": []
   },
   "source": [
    "## Section 2.2 - Fraud Dataset Import"
   ]
  },
  {
   "cell_type": "code",
   "execution_count": 5,
   "id": "d9d2961b-d8ea-4f40-b741-c6109e63f930",
   "metadata": {
    "tags": []
   },
   "outputs": [
    {
     "name": "stdout",
     "output_type": "stream",
     "text": [
      "Tamanho do DataFrame (linhas, colunas): (42590, 2)\n",
      "Tamanho do DataFrame (linhas, colunas): (42402, 2)\n"
     ]
    }
   ],
   "source": [
    "caminho_arquivo = 'C:/Geral/Python/Case Incognia/Fraude/Victor Wakai _ BASE 2 - incognia-digital-banking-transactions-fraud-feedback - incognia-digital-banking-transactions-fraud-feedback.csv'\n",
    "\n",
    "df_fraude = pd.read_csv(caminho_arquivo)\n",
    "\n",
    "df_fraude['fg_fraud'] = 1\n",
    "\n",
    "df_fraude.head(4)\n",
    "\n",
    "tamanho_do_dataframe = df_fraude.shape\n",
    "\n",
    "print(\"Tamanho do DataFrame (linhas, colunas):\", tamanho_do_dataframe)\n",
    "df_fraude = df_fraude.drop_duplicates()\n",
    "tamanho_do_dataframe = df_fraude.shape\n",
    "print(\"Tamanho do DataFrame (linhas, colunas):\", tamanho_do_dataframe)"
   ]
  },
  {
   "cell_type": "code",
   "execution_count": 6,
   "id": "90b85fea-359b-4e52-a026-54d56ec0c67b",
   "metadata": {
    "tags": []
   },
   "outputs": [
    {
     "data": {
      "text/html": [
       "<div>\n",
       "<style scoped>\n",
       "    .dataframe tbody tr th:only-of-type {\n",
       "        vertical-align: middle;\n",
       "    }\n",
       "\n",
       "    .dataframe tbody tr th {\n",
       "        vertical-align: top;\n",
       "    }\n",
       "\n",
       "    .dataframe thead th {\n",
       "        text-align: right;\n",
       "    }\n",
       "</style>\n",
       "<table border=\"1\" class=\"dataframe\">\n",
       "  <thead>\n",
       "    <tr style=\"text-align: right;\">\n",
       "      <th></th>\n",
       "      <th>transaction_id</th>\n",
       "      <th>transaction_timestamp</th>\n",
       "      <th>account_id</th>\n",
       "      <th>device_id</th>\n",
       "      <th>distance_to_frequent_location</th>\n",
       "      <th>device_age_days</th>\n",
       "      <th>is_emulator</th>\n",
       "      <th>has_fake_location</th>\n",
       "      <th>has_root_permissions</th>\n",
       "      <th>app_is_tampered</th>\n",
       "      <th>transaction_value</th>\n",
       "      <th>client_decision</th>\n",
       "      <th>fg_fraud</th>\n",
       "    </tr>\n",
       "  </thead>\n",
       "  <tbody>\n",
       "    <tr>\n",
       "      <th>0</th>\n",
       "      <td>691e8232-68b7</td>\n",
       "      <td>1693011151145</td>\n",
       "      <td>1877895943</td>\n",
       "      <td>1000002513</td>\n",
       "      <td>6.053</td>\n",
       "      <td>66</td>\n",
       "      <td>False</td>\n",
       "      <td>False</td>\n",
       "      <td>False</td>\n",
       "      <td>False</td>\n",
       "      <td>32.921</td>\n",
       "      <td>approved</td>\n",
       "      <td>0</td>\n",
       "    </tr>\n",
       "    <tr>\n",
       "      <th>1</th>\n",
       "      <td>64b4e6b8-dd66</td>\n",
       "      <td>1692027970161</td>\n",
       "      <td>616054714</td>\n",
       "      <td>1000006901</td>\n",
       "      <td>2.893</td>\n",
       "      <td>341</td>\n",
       "      <td>False</td>\n",
       "      <td>False</td>\n",
       "      <td>False</td>\n",
       "      <td>False</td>\n",
       "      <td>234.839</td>\n",
       "      <td>approved</td>\n",
       "      <td>0</td>\n",
       "    </tr>\n",
       "    <tr>\n",
       "      <th>2</th>\n",
       "      <td>9df0ac4c-2942</td>\n",
       "      <td>1692005618374</td>\n",
       "      <td>248051189</td>\n",
       "      <td>1000009259</td>\n",
       "      <td>6.322</td>\n",
       "      <td>157</td>\n",
       "      <td>False</td>\n",
       "      <td>False</td>\n",
       "      <td>False</td>\n",
       "      <td>False</td>\n",
       "      <td>84.473</td>\n",
       "      <td>denied</td>\n",
       "      <td>0</td>\n",
       "    </tr>\n",
       "    <tr>\n",
       "      <th>3</th>\n",
       "      <td>6847e894-2421</td>\n",
       "      <td>1690895607459</td>\n",
       "      <td>495694495</td>\n",
       "      <td>1000011126</td>\n",
       "      <td>0.425</td>\n",
       "      <td>22</td>\n",
       "      <td>False</td>\n",
       "      <td>False</td>\n",
       "      <td>False</td>\n",
       "      <td>False</td>\n",
       "      <td>281.682</td>\n",
       "      <td>approved</td>\n",
       "      <td>0</td>\n",
       "    </tr>\n",
       "  </tbody>\n",
       "</table>\n",
       "</div>"
      ],
      "text/plain": [
       "  transaction_id  transaction_timestamp  account_id   device_id  \\\n",
       "0  691e8232-68b7          1693011151145  1877895943  1000002513   \n",
       "1  64b4e6b8-dd66          1692027970161   616054714  1000006901   \n",
       "2  9df0ac4c-2942          1692005618374   248051189  1000009259   \n",
       "3  6847e894-2421          1690895607459   495694495  1000011126   \n",
       "\n",
       "   distance_to_frequent_location  device_age_days is_emulator  \\\n",
       "0                          6.053               66       False   \n",
       "1                          2.893              341       False   \n",
       "2                          6.322              157       False   \n",
       "3                          0.425               22       False   \n",
       "\n",
       "   has_fake_location has_root_permissions app_is_tampered  transaction_value  \\\n",
       "0              False                False           False             32.921   \n",
       "1              False                False           False            234.839   \n",
       "2              False                False           False             84.473   \n",
       "3              False                False           False            281.682   \n",
       "\n",
       "  client_decision  fg_fraud  \n",
       "0        approved         0  \n",
       "1        approved         0  \n",
       "2          denied         0  \n",
       "3        approved         0  "
      ]
     },
     "execution_count": 6,
     "metadata": {},
     "output_type": "execute_result"
    }
   ],
   "source": [
    "merged_df = pd.merge(df_transac, df_fraude, on='transaction_id', how='left')\n",
    "merged_df['fg_fraud'] = merged_df['fg_fraud'].fillna(0).astype(int)\n",
    "merged_df.head(4)"
   ]
  },
  {
   "cell_type": "code",
   "execution_count": 7,
   "id": "ce4f35f0-3351-4fac-b9d5-3d91de505cab",
   "metadata": {
    "tags": []
   },
   "outputs": [
    {
     "data": {
      "text/html": [
       "<div>\n",
       "<style scoped>\n",
       "    .dataframe tbody tr th:only-of-type {\n",
       "        vertical-align: middle;\n",
       "    }\n",
       "\n",
       "    .dataframe tbody tr th {\n",
       "        vertical-align: top;\n",
       "    }\n",
       "\n",
       "    .dataframe thead th {\n",
       "        text-align: right;\n",
       "    }\n",
       "</style>\n",
       "<table border=\"1\" class=\"dataframe\">\n",
       "  <thead>\n",
       "    <tr style=\"text-align: right;\">\n",
       "      <th></th>\n",
       "      <th>transaction_id</th>\n",
       "      <th>account_id</th>\n",
       "      <th>device_id</th>\n",
       "      <th>distance_to_frequent_location</th>\n",
       "      <th>device_age_days</th>\n",
       "      <th>is_emulator</th>\n",
       "      <th>has_fake_location</th>\n",
       "      <th>has_root_permissions</th>\n",
       "      <th>app_is_tampered</th>\n",
       "      <th>transaction_value</th>\n",
       "      <th>client_decision</th>\n",
       "      <th>fg_fraud</th>\n",
       "      <th>data_transaction</th>\n",
       "      <th>hour_transaction</th>\n",
       "    </tr>\n",
       "  </thead>\n",
       "  <tbody>\n",
       "    <tr>\n",
       "      <th>0</th>\n",
       "      <td>691e8232-68b7</td>\n",
       "      <td>1877895943</td>\n",
       "      <td>1000002513</td>\n",
       "      <td>6.053</td>\n",
       "      <td>66</td>\n",
       "      <td>False</td>\n",
       "      <td>False</td>\n",
       "      <td>False</td>\n",
       "      <td>False</td>\n",
       "      <td>32.921</td>\n",
       "      <td>approved</td>\n",
       "      <td>0</td>\n",
       "      <td>2023-08-26</td>\n",
       "      <td>00:52:31</td>\n",
       "    </tr>\n",
       "    <tr>\n",
       "      <th>1</th>\n",
       "      <td>64b4e6b8-dd66</td>\n",
       "      <td>616054714</td>\n",
       "      <td>1000006901</td>\n",
       "      <td>2.893</td>\n",
       "      <td>341</td>\n",
       "      <td>False</td>\n",
       "      <td>False</td>\n",
       "      <td>False</td>\n",
       "      <td>False</td>\n",
       "      <td>234.839</td>\n",
       "      <td>approved</td>\n",
       "      <td>0</td>\n",
       "      <td>2023-08-14</td>\n",
       "      <td>15:46:10</td>\n",
       "    </tr>\n",
       "    <tr>\n",
       "      <th>2</th>\n",
       "      <td>9df0ac4c-2942</td>\n",
       "      <td>248051189</td>\n",
       "      <td>1000009259</td>\n",
       "      <td>6.322</td>\n",
       "      <td>157</td>\n",
       "      <td>False</td>\n",
       "      <td>False</td>\n",
       "      <td>False</td>\n",
       "      <td>False</td>\n",
       "      <td>84.473</td>\n",
       "      <td>denied</td>\n",
       "      <td>0</td>\n",
       "      <td>2023-08-14</td>\n",
       "      <td>09:33:38</td>\n",
       "    </tr>\n",
       "    <tr>\n",
       "      <th>3</th>\n",
       "      <td>6847e894-2421</td>\n",
       "      <td>495694495</td>\n",
       "      <td>1000011126</td>\n",
       "      <td>0.425</td>\n",
       "      <td>22</td>\n",
       "      <td>False</td>\n",
       "      <td>False</td>\n",
       "      <td>False</td>\n",
       "      <td>False</td>\n",
       "      <td>281.682</td>\n",
       "      <td>approved</td>\n",
       "      <td>0</td>\n",
       "      <td>2023-08-01</td>\n",
       "      <td>13:13:27</td>\n",
       "    </tr>\n",
       "  </tbody>\n",
       "</table>\n",
       "</div>"
      ],
      "text/plain": [
       "  transaction_id  account_id   device_id  distance_to_frequent_location  \\\n",
       "0  691e8232-68b7  1877895943  1000002513                          6.053   \n",
       "1  64b4e6b8-dd66   616054714  1000006901                          2.893   \n",
       "2  9df0ac4c-2942   248051189  1000009259                          6.322   \n",
       "3  6847e894-2421   495694495  1000011126                          0.425   \n",
       "\n",
       "   device_age_days is_emulator  has_fake_location has_root_permissions  \\\n",
       "0               66       False              False                False   \n",
       "1              341       False              False                False   \n",
       "2              157       False              False                False   \n",
       "3               22       False              False                False   \n",
       "\n",
       "  app_is_tampered  transaction_value client_decision  fg_fraud  \\\n",
       "0           False             32.921        approved         0   \n",
       "1           False            234.839        approved         0   \n",
       "2           False             84.473          denied         0   \n",
       "3           False            281.682        approved         0   \n",
       "\n",
       "  data_transaction hour_transaction  \n",
       "0       2023-08-26         00:52:31  \n",
       "1       2023-08-14         15:46:10  \n",
       "2       2023-08-14         09:33:38  \n",
       "3       2023-08-01         13:13:27  "
      ]
     },
     "execution_count": 7,
     "metadata": {},
     "output_type": "execute_result"
    }
   ],
   "source": [
    "# Modeling timestamp \n",
    "merged_df['transaction_timestamp'] = merged_df['transaction_timestamp'].apply(lambda x: datetime.utcfromtimestamp(x / 1000))\n",
    "\n",
    "# Removing timestamp and converting \n",
    "merged_df['transaction_timestamp'] = merged_df['transaction_timestamp'].apply(lambda x: x.replace(microsecond=0))\n",
    "\n",
    "# Create 2 new columns based on the new timestamp\n",
    "merged_df['data_transaction'] = merged_df['transaction_timestamp'].dt.date\n",
    "\n",
    "merged_df['hour_transaction'] = merged_df['transaction_timestamp'].dt.time\n",
    "\n",
    "merged_df = merged_df.drop(columns=['transaction_timestamp'])\n",
    "\n",
    "merged_df.head(4)"
   ]
  },
  {
   "cell_type": "code",
   "execution_count": 8,
   "id": "d95cffef-1504-467b-8a10-49ddf8b16f98",
   "metadata": {
    "tags": []
   },
   "outputs": [],
   "source": [
    "merged_df['data_transaction'] = pd.to_datetime(merged_df['data_transaction'])\n",
    "\n",
    "# Create the week day based on the timestamp\n",
    "merged_df['week_day_transation'] = merged_df['data_transaction'].dt.day_name()"
   ]
  },
  {
   "cell_type": "code",
   "execution_count": 9,
   "id": "bbdc1fc2-f840-4ac3-a9b8-2dc1fcc2e5bc",
   "metadata": {
    "tags": []
   },
   "outputs": [],
   "source": [
    "# Round distance and transaction value to 2 decimals places\n",
    "merged_df['distance_to_frequent_location'] = merged_df['distance_to_frequent_location'].round(2)\n",
    "merged_df['transaction_value'] = merged_df['transaction_value'].round(2)\n",
    "\n",
    "# Substitute client for 1 and 0\n",
    "merged_df['client_decision'] = merged_df['client_decision'].replace({'approved': 1, 'denied': 0})"
   ]
  },
  {
   "cell_type": "code",
   "execution_count": 10,
   "id": "410f6afb-6c10-43a2-9afc-779f514eddd8",
   "metadata": {
    "tags": []
   },
   "outputs": [
    {
     "data": {
      "text/html": [
       "<div>\n",
       "<style scoped>\n",
       "    .dataframe tbody tr th:only-of-type {\n",
       "        vertical-align: middle;\n",
       "    }\n",
       "\n",
       "    .dataframe tbody tr th {\n",
       "        vertical-align: top;\n",
       "    }\n",
       "\n",
       "    .dataframe thead th {\n",
       "        text-align: right;\n",
       "    }\n",
       "</style>\n",
       "<table border=\"1\" class=\"dataframe\">\n",
       "  <thead>\n",
       "    <tr style=\"text-align: right;\">\n",
       "      <th></th>\n",
       "      <th>transaction_id</th>\n",
       "      <th>account_id</th>\n",
       "      <th>device_id</th>\n",
       "      <th>distance_to_frequent_location</th>\n",
       "      <th>device_age_days</th>\n",
       "      <th>is_emulator</th>\n",
       "      <th>has_fake_location</th>\n",
       "      <th>has_root_permissions</th>\n",
       "      <th>app_is_tampered</th>\n",
       "      <th>transaction_value</th>\n",
       "      <th>client_decision</th>\n",
       "      <th>fg_fraud</th>\n",
       "      <th>data_transaction</th>\n",
       "      <th>hour_transaction</th>\n",
       "      <th>week_day_transation</th>\n",
       "    </tr>\n",
       "  </thead>\n",
       "  <tbody>\n",
       "    <tr>\n",
       "      <th>0</th>\n",
       "      <td>691e8232-68b7</td>\n",
       "      <td>1877895943</td>\n",
       "      <td>1000002513</td>\n",
       "      <td>6.050</td>\n",
       "      <td>66</td>\n",
       "      <td>False</td>\n",
       "      <td>False</td>\n",
       "      <td>False</td>\n",
       "      <td>False</td>\n",
       "      <td>32.920</td>\n",
       "      <td>1</td>\n",
       "      <td>0</td>\n",
       "      <td>2023-08-26</td>\n",
       "      <td>00:52:31</td>\n",
       "      <td>Saturday</td>\n",
       "    </tr>\n",
       "    <tr>\n",
       "      <th>1</th>\n",
       "      <td>64b4e6b8-dd66</td>\n",
       "      <td>616054714</td>\n",
       "      <td>1000006901</td>\n",
       "      <td>2.890</td>\n",
       "      <td>341</td>\n",
       "      <td>False</td>\n",
       "      <td>False</td>\n",
       "      <td>False</td>\n",
       "      <td>False</td>\n",
       "      <td>234.840</td>\n",
       "      <td>1</td>\n",
       "      <td>0</td>\n",
       "      <td>2023-08-14</td>\n",
       "      <td>15:46:10</td>\n",
       "      <td>Monday</td>\n",
       "    </tr>\n",
       "    <tr>\n",
       "      <th>2</th>\n",
       "      <td>9df0ac4c-2942</td>\n",
       "      <td>248051189</td>\n",
       "      <td>1000009259</td>\n",
       "      <td>6.320</td>\n",
       "      <td>157</td>\n",
       "      <td>False</td>\n",
       "      <td>False</td>\n",
       "      <td>False</td>\n",
       "      <td>False</td>\n",
       "      <td>84.470</td>\n",
       "      <td>0</td>\n",
       "      <td>0</td>\n",
       "      <td>2023-08-14</td>\n",
       "      <td>09:33:38</td>\n",
       "      <td>Monday</td>\n",
       "    </tr>\n",
       "    <tr>\n",
       "      <th>3</th>\n",
       "      <td>6847e894-2421</td>\n",
       "      <td>495694495</td>\n",
       "      <td>1000011126</td>\n",
       "      <td>0.420</td>\n",
       "      <td>22</td>\n",
       "      <td>False</td>\n",
       "      <td>False</td>\n",
       "      <td>False</td>\n",
       "      <td>False</td>\n",
       "      <td>281.680</td>\n",
       "      <td>1</td>\n",
       "      <td>0</td>\n",
       "      <td>2023-08-01</td>\n",
       "      <td>13:13:27</td>\n",
       "      <td>Tuesday</td>\n",
       "    </tr>\n",
       "    <tr>\n",
       "      <th>4</th>\n",
       "      <td>a4a93162-a40f</td>\n",
       "      <td>1619461409</td>\n",
       "      <td>1000017604</td>\n",
       "      <td>10.510</td>\n",
       "      <td>0</td>\n",
       "      <td>False</td>\n",
       "      <td>False</td>\n",
       "      <td>False</td>\n",
       "      <td>False</td>\n",
       "      <td>65.960</td>\n",
       "      <td>1</td>\n",
       "      <td>0</td>\n",
       "      <td>2023-08-26</td>\n",
       "      <td>23:07:50</td>\n",
       "      <td>Saturday</td>\n",
       "    </tr>\n",
       "  </tbody>\n",
       "</table>\n",
       "</div>"
      ],
      "text/plain": [
       "  transaction_id  account_id   device_id  distance_to_frequent_location  \\\n",
       "0  691e8232-68b7  1877895943  1000002513                          6.050   \n",
       "1  64b4e6b8-dd66   616054714  1000006901                          2.890   \n",
       "2  9df0ac4c-2942   248051189  1000009259                          6.320   \n",
       "3  6847e894-2421   495694495  1000011126                          0.420   \n",
       "4  a4a93162-a40f  1619461409  1000017604                         10.510   \n",
       "\n",
       "   device_age_days is_emulator  has_fake_location has_root_permissions  \\\n",
       "0               66       False              False                False   \n",
       "1              341       False              False                False   \n",
       "2              157       False              False                False   \n",
       "3               22       False              False                False   \n",
       "4                0       False              False                False   \n",
       "\n",
       "  app_is_tampered  transaction_value  client_decision  fg_fraud  \\\n",
       "0           False             32.920                1         0   \n",
       "1           False            234.840                1         0   \n",
       "2           False             84.470                0         0   \n",
       "3           False            281.680                1         0   \n",
       "4           False             65.960                1         0   \n",
       "\n",
       "  data_transaction hour_transaction week_day_transation  \n",
       "0       2023-08-26         00:52:31            Saturday  \n",
       "1       2023-08-14         15:46:10              Monday  \n",
       "2       2023-08-14         09:33:38              Monday  \n",
       "3       2023-08-01         13:13:27             Tuesday  \n",
       "4       2023-08-26         23:07:50            Saturday  "
      ]
     },
     "execution_count": 10,
     "metadata": {},
     "output_type": "execute_result"
    }
   ],
   "source": [
    "merged_df.head()"
   ]
  },
  {
   "cell_type": "markdown",
   "id": "0da223b2-114e-4081-bc33-5c6d0dd4fabe",
   "metadata": {
    "tags": []
   },
   "source": [
    "# Section 3 - Exploratory Analysis"
   ]
  },
  {
   "cell_type": "markdown",
   "id": "0bbdd582-9415-4a60-a698-e34c1fd466f9",
   "metadata": {
    "tags": []
   },
   "source": [
    "## Section 3.1 - Correlation Matrix"
   ]
  },
  {
   "cell_type": "code",
   "execution_count": 11,
   "id": "a10dc472-318c-4257-8cd7-b744a725f3fb",
   "metadata": {
    "tags": []
   },
   "outputs": [],
   "source": [
    "df_clean = merged_df.dropna()"
   ]
  },
  {
   "cell_type": "code",
   "execution_count": 12,
   "id": "45e91e0a-a8e6-4edb-933d-4cc8cd7f1b74",
   "metadata": {
    "tags": []
   },
   "outputs": [],
   "source": [
    "colunas_selecionadas = ['device_age_days','distance_to_frequent_location', 'has_fake_location','has_root_permissions','app_is_tampered','transaction_value','client_decision']\n",
    "df_clean = df_clean[colunas_selecionadas]"
   ]
  },
  {
   "cell_type": "code",
   "execution_count": 13,
   "id": "4fec2fa4-4e69-4c1a-93d3-d3e9cf0fc95d",
   "metadata": {},
   "outputs": [
    {
     "name": "stdout",
     "output_type": "stream",
     "text": [
      "       device_age_days  distance_to_frequent_location  transaction_value  \\\n",
      "count       408174.000                     408174.000         408174.000   \n",
      "mean           125.178                      14470.573            217.828   \n",
      "std            119.638                     230509.954            392.508   \n",
      "min              0.000                          0.000              1.750   \n",
      "25%             20.000                          1.880             57.440   \n",
      "50%             93.000                          5.850            109.180   \n",
      "75%            215.000                         40.468            218.030   \n",
      "max            366.000                   16500000.000          27230.350   \n",
      "\n",
      "       client_decision  \n",
      "count       408174.000  \n",
      "mean             0.649  \n",
      "std              0.477  \n",
      "min              0.000  \n",
      "25%              0.000  \n",
      "50%              1.000  \n",
      "75%              1.000  \n",
      "max              1.000  \n"
     ]
    }
   ],
   "source": [
    "desc_stats = df_clean.describe()\n",
    "print(desc_stats)"
   ]
  },
  {
   "cell_type": "code",
   "execution_count": 14,
   "id": "5f847b68-70dc-4481-bea6-9b1b833e6515",
   "metadata": {
    "tags": []
   },
   "outputs": [
    {
     "name": "stdout",
     "output_type": "stream",
     "text": [
      "                               device_age_days  distance_to_frequent_location  \\\n",
      "device_age_days                          1.000                         -0.025   \n",
      "distance_to_frequent_location           -0.025                          1.000   \n",
      "has_fake_location                        0.011                         -0.000   \n",
      "has_root_permissions                    -0.024                          0.004   \n",
      "app_is_tampered                         -0.005                          0.031   \n",
      "transaction_value                       -0.091                          0.106   \n",
      "client_decision                          0.002                          0.004   \n",
      "\n",
      "                               has_fake_location  has_root_permissions  \\\n",
      "device_age_days                            0.011                -0.024   \n",
      "distance_to_frequent_location             -0.000                 0.004   \n",
      "has_fake_location                          1.000                 0.006   \n",
      "has_root_permissions                       0.006                 1.000   \n",
      "app_is_tampered                           -0.000                -0.001   \n",
      "transaction_value                          0.009                 0.032   \n",
      "client_decision                            0.000                -0.002   \n",
      "\n",
      "                               app_is_tampered  transaction_value  \\\n",
      "device_age_days                         -0.005             -0.091   \n",
      "distance_to_frequent_location            0.031              0.106   \n",
      "has_fake_location                       -0.000              0.009   \n",
      "has_root_permissions                    -0.001              0.032   \n",
      "app_is_tampered                          1.000              0.020   \n",
      "transaction_value                        0.020              1.000   \n",
      "client_decision                          0.001              0.001   \n",
      "\n",
      "                               client_decision  \n",
      "device_age_days                          0.002  \n",
      "distance_to_frequent_location            0.004  \n",
      "has_fake_location                        0.000  \n",
      "has_root_permissions                    -0.002  \n",
      "app_is_tampered                          0.001  \n",
      "transaction_value                        0.001  \n",
      "client_decision                          1.000  \n"
     ]
    }
   ],
   "source": [
    "correlation_matrix = df_clean.corr()\n",
    "print(correlation_matrix)"
   ]
  },
  {
   "cell_type": "code",
   "execution_count": 15,
   "id": "0744589a-250a-40cd-b7d1-c0fabbced118",
   "metadata": {
    "tags": []
   },
   "outputs": [
    {
     "data": {
      "image/png": "[encoded data removed]",
      "text/plain": [
       "<Figure size 640x480 with 2 Axes>"
      ]
     },
     "metadata": {},
     "output_type": "display_data"
    }
   ],
   "source": [
    "sns.heatmap(correlation_matrix, annot=True, cmap='coolwarm', linewidths=0.5)\n",
    "plt.title('Correlation Matrix')\n",
    "plt.show()"
   ]
  },
  {
   "cell_type": "markdown",
   "id": "f8856f61-ed70-475e-9bf4-310cf6686ce8",
   "metadata": {
    "tags": []
   },
   "source": [
    "## Section 3.2 - Key Statistics"
   ]
  },
  {
   "cell_type": "code",
   "execution_count": 16,
   "id": "1b21cea2-3e26-4afa-9d5d-e0afe692ccc8",
   "metadata": {
    "tags": []
   },
   "outputs": [],
   "source": [
    "merged_df_clean = merged_df.dropna()"
   ]
  },
  {
   "cell_type": "code",
   "execution_count": 17,
   "id": "2eb773e3-0c9e-49ad-a72b-fdad04b117fe",
   "metadata": {
    "tags": []
   },
   "outputs": [
    {
     "name": "stdout",
     "output_type": "stream",
     "text": [
      "Median distance_to_frequent_location: 5.85\n",
      "Median device_age_days: 93.0\n",
      "Median transaction_value: 109.18\n",
      "Mode distance_to_frequent_location: 0.11\n",
      "Mode device_age_days: 0\n",
      "Mode transaction_value: 50.94\n",
      "Variance distance_to_frequent_location: 53134708761.477684\n",
      "Variance device_age_days: 14313.1158415774\n",
      "Variance transaction_value: 154062.4723228233\n"
     ]
    }
   ],
   "source": [
    "# Calculate median\n",
    "mediana_coluna1 = np.median(merged_df_clean['distance_to_frequent_location'])\n",
    "mediana_coluna2 = np.median(merged_df_clean['device_age_days'])\n",
    "mediana_coluna3 = np.median(merged_df_clean['transaction_value'])\n",
    "\n",
    "# Calculate mode\n",
    "moda_coluna1 = merged_df_clean['distance_to_frequent_location'].mode()[0]\n",
    "moda_coluna2 = merged_df_clean['device_age_days'].mode()[0]\n",
    "moda_coluna3 = merged_df_clean['transaction_value'].mode()[0]\n",
    "\n",
    "# Calculate varience\n",
    "variancia_coluna1 = np.var(merged_df_clean['distance_to_frequent_location'])\n",
    "variancia_coluna2 = np.var(merged_df_clean['device_age_days'])\n",
    "variancia_coluna3 = np.var(merged_df_clean['transaction_value'])\n",
    "\n",
    "print(\"Median distance_to_frequent_location:\", mediana_coluna1)\n",
    "print(\"Median device_age_days:\", mediana_coluna2)\n",
    "print(\"Median transaction_value:\", mediana_coluna3)\n",
    "print(\"Mode distance_to_frequent_location:\", moda_coluna1)\n",
    "print(\"Mode device_age_days:\", moda_coluna2)\n",
    "print(\"Mode transaction_value:\", moda_coluna3)\n",
    "print(\"Variance distance_to_frequent_location:\", variancia_coluna1)\n",
    "print(\"Variance device_age_days:\", variancia_coluna2)\n",
    "print(\"Variance transaction_value:\", variancia_coluna3)"
   ]
  },
  {
   "cell_type": "code",
   "execution_count": 18,
   "id": "c770aac9-4f50-4a5f-86b0-0954cdaf31ad",
   "metadata": {
    "tags": []
   },
   "outputs": [
    {
     "name": "stdout",
     "output_type": "stream",
     "text": [
      "Absolute frequence of transaction_id:\n",
      "transaction_id\n",
      "0.00E+00         136\n",
      "2d47735f-4735      2\n",
      "b6506d64-0a64      2\n",
      "1d423f90-d8a9      2\n",
      "4b295382-3ac7      2\n",
      "                ... \n",
      "666293be-6bdb      1\n",
      "6088a699-6e3b      1\n",
      "03755dd3-a710      1\n",
      "64ba1c9c-fe55      1\n",
      "46db02ac-4039      1\n",
      "Name: count, Length: 408035, dtype: int64\n",
      "\n",
      "Relative frequence of transaction_id:\n",
      "transaction_id\n",
      "0.00E+00        0.000\n",
      "2d47735f-4735   0.000\n",
      "b6506d64-0a64   0.000\n",
      "1d423f90-d8a9   0.000\n",
      "4b295382-3ac7   0.000\n",
      "                 ... \n",
      "666293be-6bdb   0.000\n",
      "6088a699-6e3b   0.000\n",
      "03755dd3-a710   0.000\n",
      "64ba1c9c-fe55   0.000\n",
      "46db02ac-4039   0.000\n",
      "Name: count, Length: 408035, dtype: float64\n",
      "\n",
      "==================================================\n",
      "\n",
      "Absolute frequence of account_id:\n",
      "account_id\n",
      "665706752     2\n",
      "1686075381    2\n",
      "1052857336    2\n",
      "562380850     2\n",
      "1800707705    2\n",
      "             ..\n",
      "1234988154    1\n",
      "748905535     1\n",
      "1356655991    1\n",
      "1551883995    1\n",
      "1571905742    1\n",
      "Name: count, Length: 408140, dtype: int64\n",
      "\n",
      "Relative frequence of account_id:\n",
      "account_id\n",
      "665706752    0.000\n",
      "1686075381   0.000\n",
      "1052857336   0.000\n",
      "562380850    0.000\n",
      "1800707705   0.000\n",
      "              ... \n",
      "1234988154   0.000\n",
      "748905535    0.000\n",
      "1356655991   0.000\n",
      "1551883995   0.000\n",
      "1571905742   0.000\n",
      "Name: count, Length: 408140, dtype: float64\n",
      "\n",
      "==================================================\n",
      "\n",
      "Absolute frequence of device_id:\n",
      "device_id\n",
      "1096249526    213\n",
      "295633568      94\n",
      "359248285      91\n",
      "1546773582     91\n",
      "1315671815     86\n",
      "             ... \n",
      "1681515562      1\n",
      "1681509623      1\n",
      "1681492813      1\n",
      "1681491722      1\n",
      "999996640       1\n",
      "Name: count, Length: 320308, dtype: int64\n",
      "\n",
      "Relative frequence of device_id:\n",
      "device_id\n",
      "1096249526   0.001\n",
      "295633568    0.000\n",
      "359248285    0.000\n",
      "1546773582   0.000\n",
      "1315671815   0.000\n",
      "              ... \n",
      "1681515562   0.000\n",
      "1681509623   0.000\n",
      "1681492813   0.000\n",
      "1681491722   0.000\n",
      "999996640    0.000\n",
      "Name: count, Length: 320308, dtype: float64\n",
      "\n",
      "==================================================\n",
      "\n",
      "Absolute frequence of is_emulator:\n",
      "is_emulator\n",
      "False    408174\n",
      "Name: count, dtype: int64\n",
      "\n",
      "Relative frequence of is_emulator:\n",
      "is_emulator\n",
      "False   1.000\n",
      "Name: count, dtype: float64\n",
      "\n",
      "==================================================\n",
      "\n",
      "Absolute frequence of has_fake_location:\n",
      "has_fake_location\n",
      "False    408114\n",
      "True         60\n",
      "Name: count, dtype: int64\n",
      "\n",
      "Relative frequence of has_fake_location:\n",
      "has_fake_location\n",
      "False   1.000\n",
      "True    0.000\n",
      "Name: count, dtype: float64\n",
      "\n",
      "==================================================\n",
      "\n",
      "Absolute frequence of has_root_permissions:\n",
      "has_root_permissions\n",
      "False    407791\n",
      "True        383\n",
      "Name: count, dtype: int64\n",
      "\n",
      "Relative frequence of has_root_permissions:\n",
      "has_root_permissions\n",
      "False   0.999\n",
      "True    0.001\n",
      "Name: count, dtype: float64\n",
      "\n",
      "==================================================\n",
      "\n",
      "Absolute frequence of app_is_tampered:\n",
      "app_is_tampered\n",
      "False    408044\n",
      "True        130\n",
      "Name: count, dtype: int64\n",
      "\n",
      "Relative frequence of app_is_tampered:\n",
      "app_is_tampered\n",
      "False   1.000\n",
      "True    0.000\n",
      "Name: count, dtype: float64\n",
      "\n",
      "==================================================\n",
      "\n",
      "Absolute frequence of client_decision:\n",
      "client_decision\n",
      "1    264915\n",
      "0    143259\n",
      "Name: count, dtype: int64\n",
      "\n",
      "Relative frequence of client_decision:\n",
      "client_decision\n",
      "1   0.649\n",
      "0   0.351\n",
      "Name: count, dtype: float64\n",
      "\n",
      "==================================================\n",
      "\n",
      "Absolute frequence of fg_fraud:\n",
      "fg_fraud\n",
      "0    365797\n",
      "1     42377\n",
      "Name: count, dtype: int64\n",
      "\n",
      "Relative frequence of fg_fraud:\n",
      "fg_fraud\n",
      "0   0.896\n",
      "1   0.104\n",
      "Name: count, dtype: float64\n",
      "\n",
      "==================================================\n",
      "\n",
      "Absolute frequence of data_transaction:\n",
      "data_transaction\n",
      "2023-08-01    16599\n",
      "2023-08-08    16088\n",
      "2023-08-07    14714\n",
      "2023-08-09    14587\n",
      "2023-08-16    14126\n",
      "2023-08-15    13826\n",
      "2023-08-10    13756\n",
      "2023-08-02    13550\n",
      "2023-08-21    13518\n",
      "2023-08-31    13503\n",
      "2023-08-30    13395\n",
      "2023-08-22    13359\n",
      "2023-08-17    13351\n",
      "2023-08-14    13293\n",
      "2023-08-03    13217\n",
      "2023-08-24    13157\n",
      "2023-08-23    13089\n",
      "2023-08-29    13071\n",
      "2023-08-04    13068\n",
      "2023-08-18    12968\n",
      "2023-08-28    12967\n",
      "2023-08-11    12826\n",
      "2023-08-25    12549\n",
      "2023-08-26    12289\n",
      "2023-08-27    11938\n",
      "2023-08-19    11933\n",
      "2023-08-20    11888\n",
      "2023-08-05    11794\n",
      "2023-08-12    11731\n",
      "2023-08-06    11416\n",
      "2023-08-13    10608\n",
      "Name: count, dtype: int64\n",
      "\n",
      "Relative frequence of data_transaction:\n",
      "data_transaction\n",
      "2023-08-01   0.041\n",
      "2023-08-08   0.039\n",
      "2023-08-07   0.036\n",
      "2023-08-09   0.036\n",
      "2023-08-16   0.035\n",
      "2023-08-15   0.034\n",
      "2023-08-10   0.034\n",
      "2023-08-02   0.033\n",
      "2023-08-21   0.033\n",
      "2023-08-31   0.033\n",
      "2023-08-30   0.033\n",
      "2023-08-22   0.033\n",
      "2023-08-17   0.033\n",
      "2023-08-14   0.033\n",
      "2023-08-03   0.032\n",
      "2023-08-24   0.032\n",
      "2023-08-23   0.032\n",
      "2023-08-29   0.032\n",
      "2023-08-04   0.032\n",
      "2023-08-18   0.032\n",
      "2023-08-28   0.032\n",
      "2023-08-11   0.031\n",
      "2023-08-25   0.031\n",
      "2023-08-26   0.030\n",
      "2023-08-27   0.029\n",
      "2023-08-19   0.029\n",
      "2023-08-20   0.029\n",
      "2023-08-05   0.029\n",
      "2023-08-12   0.029\n",
      "2023-08-06   0.028\n",
      "2023-08-13   0.026\n",
      "Name: count, dtype: float64\n",
      "\n",
      "==================================================\n",
      "\n",
      "Absolute frequence of hour_transaction:\n",
      "hour_transaction\n",
      "20:48:32    20\n",
      "23:14:08    20\n",
      "21:15:33    19\n",
      "16:10:30    18\n",
      "21:50:01    18\n",
      "            ..\n",
      "08:20:31     1\n",
      "09:12:12     1\n",
      "05:16:28     1\n",
      "05:55:28     1\n",
      "10:43:57     1\n",
      "Name: count, Length: 79004, dtype: int64\n",
      "\n",
      "Relative frequence of hour_transaction:\n",
      "hour_transaction\n",
      "20:48:32   0.000\n",
      "23:14:08   0.000\n",
      "21:15:33   0.000\n",
      "16:10:30   0.000\n",
      "21:50:01   0.000\n",
      "            ... \n",
      "08:20:31   0.000\n",
      "09:12:12   0.000\n",
      "05:16:28   0.000\n",
      "05:55:28   0.000\n",
      "10:43:57   0.000\n",
      "Name: count, Length: 79004, dtype: float64\n",
      "\n",
      "==================================================\n",
      "\n"
     ]
    }
   ],
   "source": [
    "def calcular_frequencia(merged_df_clean, coluna):\n",
    "    # Absolute frequency\n",
    "    frequencia_absoluta = merged_df_clean[coluna].value_counts()\n",
    "    \n",
    "    # Relative Frequency\n",
    "    frequencia_relativa = frequencia_absoluta / len(merged_df_clean[coluna])\n",
    "    \n",
    "    return frequencia_absoluta, frequencia_relativa\n",
    "\n",
    "# Calculation\n",
    "colunas = ['transaction_id', 'account_id', 'device_id', 'is_emulator', \n",
    "           'has_fake_location', 'has_root_permissions', 'app_is_tampered', \n",
    "           'client_decision', 'fg_fraud', 'data_transaction', 'hour_transaction']\n",
    "\n",
    "for coluna in colunas:\n",
    "    frequencia_absoluta, frequencia_relativa = calcular_frequencia(merged_df_clean, coluna)\n",
    "    print(f\"Absolute frequence of {coluna}:\")\n",
    "    print(frequencia_absoluta)\n",
    "    print(f\"\\nRelative frequence of {coluna}:\")\n",
    "    print(frequencia_relativa)\n",
    "    print(\"\\n\" + \"=\"*50 + \"\\n\")"
   ]
  },
  {
   "cell_type": "code",
   "execution_count": 19,
   "id": "5f742a7b-04f7-416e-920d-c64d7a4d493b",
   "metadata": {
    "tags": []
   },
   "outputs": [
    {
     "name": "stdout",
     "output_type": "stream",
     "text": [
      "Dataframe size (linhas, colunas): (408174, 15)\n",
      "Duplicated in the Dataframe: 0\n",
      "Null values in the Dataset:\n",
      " transaction_id                   0\n",
      "account_id                       0\n",
      "device_id                        0\n",
      "distance_to_frequent_location    0\n",
      "device_age_days                  0\n",
      "is_emulator                      0\n",
      "has_fake_location                0\n",
      "has_root_permissions             0\n",
      "app_is_tampered                  0\n",
      "transaction_value                0\n",
      "client_decision                  0\n",
      "fg_fraud                         0\n",
      "data_transaction                 0\n",
      "hour_transaction                 0\n",
      "week_day_transation              0\n",
      "dtype: int64\n"
     ]
    }
   ],
   "source": [
    "tamanho_do_dataframe = merged_df_clean.shape\n",
    "print(\"Dataframe size (linhas, colunas):\", tamanho_do_dataframe)\n",
    "\n",
    "duplicatas = merged_df_clean.duplicated().sum()\n",
    "print(\"Duplicated in the Dataframe:\", duplicatas)\n",
    "\n",
    "valores_nulos = merged_df_clean.isnull().sum()\n",
    "print(\"Null values in the Dataset:\\n\", valores_nulos)"
   ]
  },
  {
   "cell_type": "code",
   "execution_count": 20,
   "id": "4f362da7-5856-41a5-81ef-23d047781c04",
   "metadata": {
    "tags": []
   },
   "outputs": [
    {
     "name": "stdout",
     "output_type": "stream",
     "text": [
      "Data type:\n",
      " transaction_id                           object\n",
      "account_id                                int64\n",
      "device_id                                 int64\n",
      "distance_to_frequent_location           float64\n",
      "device_age_days                           int64\n",
      "is_emulator                              object\n",
      "has_fake_location                          bool\n",
      "has_root_permissions                     object\n",
      "app_is_tampered                          object\n",
      "transaction_value                       float64\n",
      "client_decision                           int64\n",
      "fg_fraud                                  int32\n",
      "data_transaction                 datetime64[ns]\n",
      "hour_transaction                         object\n",
      "week_day_transation                      object\n",
      "dtype: object\n"
     ]
    }
   ],
   "source": [
    "tipos_de_dados = merged_df_clean.dtypes\n",
    "print(\"Data type:\\n\", tipos_de_dados)"
   ]
  },
  {
   "cell_type": "code",
   "execution_count": 21,
   "id": "5b94553a-53b9-4a30-ac82-378ed1b35167",
   "metadata": {
    "tags": []
   },
   "outputs": [
    {
     "name": "stdout",
     "output_type": "stream",
     "text": [
      "Unique values:\n",
      " transaction_id                   408035\n",
      "account_id                       408140\n",
      "device_id                        320308\n",
      "distance_to_frequent_location     89488\n",
      "device_age_days                     367\n",
      "is_emulator                           1\n",
      "has_fake_location                     2\n",
      "has_root_permissions                  2\n",
      "app_is_tampered                       2\n",
      "transaction_value                 75825\n",
      "client_decision                       2\n",
      "fg_fraud                              2\n",
      "data_transaction                     31\n",
      "hour_transaction                  79004\n",
      "week_day_transation                   7\n",
      "dtype: int64\n"
     ]
    }
   ],
   "source": [
    "print(\"Unique values:\\n\",merged_df_clean.nunique())"
   ]
  },
  {
   "cell_type": "code",
   "execution_count": 22,
   "id": "18ab8229-3999-4931-840a-cd6d88331eb5",
   "metadata": {},
   "outputs": [
    {
     "name": "stdout",
     "output_type": "stream",
     "text": [
      "Bais Statistics:\n",
      "           account_id      device_id  distance_to_frequent_location  \\\n",
      "count     408174.000     408174.000                     408174.000   \n",
      "mean  1072195171.983 1068791723.239                      14470.573   \n",
      "min         6096.000      12552.000                          0.000   \n",
      "25%    535830910.500  530227921.500                          1.880   \n",
      "50%   1070385484.500 1069450981.500                          5.850   \n",
      "75%   1609972372.000 1603147323.250                         40.468   \n",
      "max   2147481440.000 2147471561.000                   16500000.000   \n",
      "std    620354443.212  620198754.849                     230509.954   \n",
      "\n",
      "       device_age_days  transaction_value  client_decision   fg_fraud  \\\n",
      "count       408174.000         408174.000       408174.000 408174.000   \n",
      "mean           125.178            217.828            0.649      0.104   \n",
      "min              0.000              1.750            0.000      0.000   \n",
      "25%             20.000             57.440            0.000      0.000   \n",
      "50%             93.000            109.180            1.000      0.000   \n",
      "75%            215.000            218.030            1.000      0.000   \n",
      "max            366.000          27230.350            1.000      1.000   \n",
      "std            119.638            392.508            0.477      0.305   \n",
      "\n",
      "                    data_transaction  \n",
      "count                         408174  \n",
      "mean   2023-08-15 18:41:32.360611072  \n",
      "min              2023-08-01 00:00:00  \n",
      "25%              2023-08-08 00:00:00  \n",
      "50%              2023-08-16 00:00:00  \n",
      "75%              2023-08-24 00:00:00  \n",
      "max              2023-08-31 00:00:00  \n",
      "std                              NaN  \n"
     ]
    }
   ],
   "source": [
    "estatisticas_basicas = merged_df_clean.describe()\n",
    "print(\"Bais Statistics:\\n\", estatisticas_basicas)"
   ]
  },
  {
   "cell_type": "markdown",
   "id": "b8bf383d-0ada-4b27-b8bd-329eaef94d05",
   "metadata": {
    "tags": []
   },
   "source": [
    "## Section 3.3 - Account and Device Distribution"
   ]
  },
  {
   "cell_type": "code",
   "execution_count": 38,
   "id": "9720e8fe-7fa0-49ea-b93d-5dde8dea942c",
   "metadata": {},
   "outputs": [],
   "source": [
    "count_account_per_device = merged_df_clean.groupby('device_id')['account_id'].nunique()\n",
    "\n",
    "# Create 'number_account_per_device' \n",
    "merged_df_clean.loc[:, 'number_account_per_device'] = merged_df_clean['device_id'].map(count_account_per_device)\n",
    "\n",
    "count_devices_per_account = merged_df_clean.groupby('account_id')['device_id'].nunique()\n",
    "\n",
    "# Create 'number_devices_per_account'\n",
    "merged_df_clean.loc[:, 'number_devices_per_account'] = merged_df_clean['account_id'].map(count_devices_per_account)"
   ]
  },
  {
   "cell_type": "code",
   "execution_count": 39,
   "id": "7e3a8de2-a8b2-4636-b671-15f597fbbc09",
   "metadata": {
    "tags": []
   },
   "outputs": [],
   "source": [
    "def definir_quebra(numero):\n",
    "    if numero == 1:\n",
    "        return '1'\n",
    "    elif 2 <= numero <= 3:\n",
    "        return '2 - 3'\n",
    "    elif 4 <= numero <= 10:\n",
    "        return '4 - 10'\n",
    "    elif 11 <= numero <= 50:\n",
    "        return '11 - 50'\n",
    "    else:\n",
    "        return '50+'\n",
    "\n",
    "# Create new column based on the above function\n",
    "merged_df_clean.loc[:, 'group_account_per_device'] = merged_df_clean['number_account_per_device'].apply(definir_quebra)"
   ]
  },
  {
   "cell_type": "code",
   "execution_count": 26,
   "id": "def2b80d-679a-4582-aeb7-f4f40ca955d5",
   "metadata": {
    "tags": []
   },
   "outputs": [
    {
     "data": {
      "text/html": [
       "<div>\n",
       "<style scoped>\n",
       "    .dataframe tbody tr th:only-of-type {\n",
       "        vertical-align: middle;\n",
       "    }\n",
       "\n",
       "    .dataframe tbody tr th {\n",
       "        vertical-align: top;\n",
       "    }\n",
       "\n",
       "    .dataframe thead th {\n",
       "        text-align: right;\n",
       "    }\n",
       "</style>\n",
       "<table border=\"1\" class=\"dataframe\">\n",
       "  <thead>\n",
       "    <tr style=\"text-align: right;\">\n",
       "      <th></th>\n",
       "      <th>transaction_id</th>\n",
       "      <th>account_id</th>\n",
       "      <th>device_id</th>\n",
       "      <th>distance_to_frequent_location</th>\n",
       "      <th>device_age_days</th>\n",
       "      <th>is_emulator</th>\n",
       "      <th>has_fake_location</th>\n",
       "      <th>has_root_permissions</th>\n",
       "      <th>app_is_tampered</th>\n",
       "      <th>transaction_value</th>\n",
       "      <th>client_decision</th>\n",
       "      <th>fg_fraud</th>\n",
       "      <th>data_transaction</th>\n",
       "      <th>hour_transaction</th>\n",
       "      <th>week_day_transation</th>\n",
       "      <th>number_account_per_device</th>\n",
       "      <th>number_devices_per_account</th>\n",
       "      <th>group_account_per_device</th>\n",
       "    </tr>\n",
       "  </thead>\n",
       "  <tbody>\n",
       "    <tr>\n",
       "      <th>0</th>\n",
       "      <td>691e8232-68b7</td>\n",
       "      <td>1877895943</td>\n",
       "      <td>1000002513</td>\n",
       "      <td>6.050</td>\n",
       "      <td>66</td>\n",
       "      <td>False</td>\n",
       "      <td>False</td>\n",
       "      <td>False</td>\n",
       "      <td>False</td>\n",
       "      <td>32.920</td>\n",
       "      <td>1</td>\n",
       "      <td>0</td>\n",
       "      <td>2023-08-26</td>\n",
       "      <td>00:52:31</td>\n",
       "      <td>Saturday</td>\n",
       "      <td>1</td>\n",
       "      <td>1</td>\n",
       "      <td>1</td>\n",
       "    </tr>\n",
       "    <tr>\n",
       "      <th>1</th>\n",
       "      <td>64b4e6b8-dd66</td>\n",
       "      <td>616054714</td>\n",
       "      <td>1000006901</td>\n",
       "      <td>2.890</td>\n",
       "      <td>341</td>\n",
       "      <td>False</td>\n",
       "      <td>False</td>\n",
       "      <td>False</td>\n",
       "      <td>False</td>\n",
       "      <td>234.840</td>\n",
       "      <td>1</td>\n",
       "      <td>0</td>\n",
       "      <td>2023-08-14</td>\n",
       "      <td>15:46:10</td>\n",
       "      <td>Monday</td>\n",
       "      <td>1</td>\n",
       "      <td>1</td>\n",
       "      <td>1</td>\n",
       "    </tr>\n",
       "    <tr>\n",
       "      <th>2</th>\n",
       "      <td>9df0ac4c-2942</td>\n",
       "      <td>248051189</td>\n",
       "      <td>1000009259</td>\n",
       "      <td>6.320</td>\n",
       "      <td>157</td>\n",
       "      <td>False</td>\n",
       "      <td>False</td>\n",
       "      <td>False</td>\n",
       "      <td>False</td>\n",
       "      <td>84.470</td>\n",
       "      <td>0</td>\n",
       "      <td>0</td>\n",
       "      <td>2023-08-14</td>\n",
       "      <td>09:33:38</td>\n",
       "      <td>Monday</td>\n",
       "      <td>1</td>\n",
       "      <td>1</td>\n",
       "      <td>1</td>\n",
       "    </tr>\n",
       "    <tr>\n",
       "      <th>3</th>\n",
       "      <td>6847e894-2421</td>\n",
       "      <td>495694495</td>\n",
       "      <td>1000011126</td>\n",
       "      <td>0.420</td>\n",
       "      <td>22</td>\n",
       "      <td>False</td>\n",
       "      <td>False</td>\n",
       "      <td>False</td>\n",
       "      <td>False</td>\n",
       "      <td>281.680</td>\n",
       "      <td>1</td>\n",
       "      <td>0</td>\n",
       "      <td>2023-08-01</td>\n",
       "      <td>13:13:27</td>\n",
       "      <td>Tuesday</td>\n",
       "      <td>1</td>\n",
       "      <td>1</td>\n",
       "      <td>1</td>\n",
       "    </tr>\n",
       "    <tr>\n",
       "      <th>4</th>\n",
       "      <td>a4a93162-a40f</td>\n",
       "      <td>1619461409</td>\n",
       "      <td>1000017604</td>\n",
       "      <td>10.510</td>\n",
       "      <td>0</td>\n",
       "      <td>False</td>\n",
       "      <td>False</td>\n",
       "      <td>False</td>\n",
       "      <td>False</td>\n",
       "      <td>65.960</td>\n",
       "      <td>1</td>\n",
       "      <td>0</td>\n",
       "      <td>2023-08-26</td>\n",
       "      <td>23:07:50</td>\n",
       "      <td>Saturday</td>\n",
       "      <td>1</td>\n",
       "      <td>1</td>\n",
       "      <td>1</td>\n",
       "    </tr>\n",
       "  </tbody>\n",
       "</table>\n",
       "</div>"
      ],
      "text/plain": [
       "  transaction_id  account_id   device_id  distance_to_frequent_location  \\\n",
       "0  691e8232-68b7  1877895943  1000002513                          6.050   \n",
       "1  64b4e6b8-dd66   616054714  1000006901                          2.890   \n",
       "2  9df0ac4c-2942   248051189  1000009259                          6.320   \n",
       "3  6847e894-2421   495694495  1000011126                          0.420   \n",
       "4  a4a93162-a40f  1619461409  1000017604                         10.510   \n",
       "\n",
       "   device_age_days is_emulator  has_fake_location has_root_permissions  \\\n",
       "0               66       False              False                False   \n",
       "1              341       False              False                False   \n",
       "2              157       False              False                False   \n",
       "3               22       False              False                False   \n",
       "4                0       False              False                False   \n",
       "\n",
       "  app_is_tampered  transaction_value  client_decision  fg_fraud  \\\n",
       "0           False             32.920                1         0   \n",
       "1           False            234.840                1         0   \n",
       "2           False             84.470                0         0   \n",
       "3           False            281.680                1         0   \n",
       "4           False             65.960                1         0   \n",
       "\n",
       "  data_transaction hour_transaction week_day_transation  \\\n",
       "0       2023-08-26         00:52:31            Saturday   \n",
       "1       2023-08-14         15:46:10              Monday   \n",
       "2       2023-08-14         09:33:38              Monday   \n",
       "3       2023-08-01         13:13:27             Tuesday   \n",
       "4       2023-08-26         23:07:50            Saturday   \n",
       "\n",
       "   number_account_per_device  number_devices_per_account  \\\n",
       "0                          1                           1   \n",
       "1                          1                           1   \n",
       "2                          1                           1   \n",
       "3                          1                           1   \n",
       "4                          1                           1   \n",
       "\n",
       "  group_account_per_device  \n",
       "0                        1  \n",
       "1                        1  \n",
       "2                        1  \n",
       "3                        1  \n",
       "4                        1  "
      ]
     },
     "execution_count": 26,
     "metadata": {},
     "output_type": "execute_result"
    }
   ],
   "source": [
    "merged_df_clean.head()"
   ]
  },
  {
   "cell_type": "markdown",
   "id": "76fc758c-6448-4de4-be85-9ed73229e42a",
   "metadata": {
    "tags": []
   },
   "source": [
    "# Section 4 - Risk Classification"
   ]
  },
  {
   "cell_type": "code",
   "execution_count": 27,
   "id": "ba4b8f00-306d-454a-aaa9-4391c650a574",
   "metadata": {},
   "outputs": [
    {
     "name": "stdout",
     "output_type": "stream",
     "text": [
      "907.974499999999\n"
     ]
    }
   ],
   "source": [
    "# Identify the percentile 85\n",
    "percentil_85 = merged_df_clean['distance_to_frequent_location'].quantile(0.85)\n",
    "print(percentil_85)"
   ]
  },
  {
   "cell_type": "code",
   "execution_count": 28,
   "id": "93a7902f-940f-4d65-85a3-eaf4d6bc6ad9",
   "metadata": {},
   "outputs": [
    {
     "name": "stdout",
     "output_type": "stream",
     "text": [
      "218.03\n"
     ]
    }
   ],
   "source": [
    "# Identify the percentile 85\n",
    "percentil_75 = merged_df_clean['transaction_value'].quantile(0.75)\n",
    "print(percentil_75)"
   ]
  },
  {
   "cell_type": "code",
   "execution_count": 40,
   "id": "d91bdb5a-f911-4502-8924-16c5b8269fe2",
   "metadata": {
    "tags": []
   },
   "outputs": [],
   "source": [
    "# Define the risk classification function\n",
    "def classify_risk(row):\n",
    "    \n",
    "    # Hour boundaries\n",
    "    limite_inferior = datetime.strptime('22:00:00', '%H:%M:%S').time()\n",
    "    limite_superior = datetime.strptime('06:00:00', '%H:%M:%S').time()\n",
    "    \n",
    "    # Check for immediate high risk conditions\n",
    "    if row['app_is_tampered'] == True or row['has_fake_location'] == True or row['has_root_permissions'] == True or row['number_account_per_device'] > 10:\n",
    "        return 'High Risk'\n",
    "\n",
    "    # Initialize risk score\n",
    "    risk_score = 0\n",
    "\n",
    "    # These thresholds are arbitrary and should be adjusted based on domain knowledge\n",
    "    if row['distance_to_frequent_location'] > 907: # Usando P85\n",
    "        risk_score += 1 * 2\n",
    "    if row['device_age_days'] > 0 and row['device_age_days'] < 141:  # Usando os dias com maior percentual de risco\n",
    "        risk_score += 1 * 1\n",
    "    if row['transaction_value'] > 218:  # Assuming higher transaction values are riskier\n",
    "        risk_score += 1 * 1 # 2\n",
    "    if row['hour_transaction'] > limite_inferior and row['hour_transaction'] < limite_superior:  # Assuming late night transactions are riskier\n",
    "        risk_score += 1 * 1\n",
    "    if row['client_decision'] == 0: #0\n",
    "        risk_score += 1 * 1 #1\n",
    "    if row['app_is_tampered'] == False:\n",
    "        risk_score += 1 * 1\n",
    "    if row['has_fake_location'] == False:\n",
    "        risk_score += 1 * 1\n",
    "    if row['has_root_permissions'] == False:\n",
    "        risk_score += 1 * 1\n",
    "    if row['number_account_per_device'] > 3 and row['number_account_per_device'] < 10 :\n",
    "        risk_score += 1 * 2 #3\n",
    "\n",
    "    # Define risk classification based on risk score\n",
    "    if risk_score >= 9: #10\n",
    "        return 'High Risk'\n",
    "    elif risk_score >= 6 and risk_score < 9: \n",
    "        return 'Medium Risk'\n",
    "    else:\n",
    "        return 'Low Risk'\n",
    "\n",
    "merged_df_clean.loc[:, 'risk_score'] = merged_df_clean.apply(classify_risk, axis=1)"
   ]
  },
  {
   "cell_type": "code",
   "execution_count": 30,
   "id": "c1a8821b-2bb3-4ec0-b16e-3fe15aa7c042",
   "metadata": {
    "tags": []
   },
   "outputs": [
    {
     "name": "stdout",
     "output_type": "stream",
     "text": [
      "    risk_score  quantidade_transacoes  quantidade_fg_fraud\n",
      "0    High Risk                  26007                20152\n",
      "1     Low Risk                 298628                 3837\n",
      "2  Medium Risk                  83539                18388\n"
     ]
    }
   ],
   "source": [
    "# Check model accuracy\n",
    "transacoes_agrupadas = merged_df_clean.groupby('risk_score').agg(\n",
    "    quantidade_transacoes=('transaction_id', 'count'),\n",
    "    quantidade_fg_fraud=('fg_fraud', 'sum')\n",
    ").reset_index()\n",
    " \n",
    "# Show results\n",
    "print(transacoes_agrupadas)"
   ]
  },
  {
   "cell_type": "markdown",
   "id": "f2dc66c8-25e7-4e51-b1ad-85977db064af",
   "metadata": {
    "tags": []
   },
   "source": [
    "# Section 5 - Decision Flow 2.0"
   ]
  },
  {
   "cell_type": "code",
   "execution_count": 31,
   "id": "1bf2e14c-5e3f-4a32-8220-182b770eb0e9",
   "metadata": {},
   "outputs": [],
   "source": [
    "def calculate_transaction_value(risk_score, client_decision, fg_fraud, transaction_value):\n",
    "    if risk_score == \"High Risk\" and client_decision == 1 and fg_fraud == 0:\n",
    "        return transaction_value * 0.18 - 0.05\n",
    "    elif risk_score == \"Medium Risk\" and client_decision == 1 and fg_fraud == 0:\n",
    "        return transaction_value * 0.17 - 0.05\n",
    "    elif risk_score == \"Low Risk\" and client_decision == 1 and fg_fraud == 0:\n",
    "        return transaction_value * 0.16 - 0.05\n",
    "    elif risk_score == \"High Risk\" and client_decision == 1 and fg_fraud == 1:\n",
    "        return ((transaction_value * 0.18 - 0.05) * -1) * 0.75\n",
    "    elif risk_score == \"Medium Risk\" and client_decision == 1 and fg_fraud == 1:\n",
    "        return ((transaction_value * 0.17 - 0.05) * -1) * 0.9\n",
    "    elif risk_score == \"Low Risk\" and client_decision == 1 and fg_fraud == 1:\n",
    "        return ((transaction_value * 0.16 - 0.05) * -1) * 0.95\n",
    "    \n",
    "    \n",
    "    elif risk_score == \"High Risk\" and client_decision == 0 and fg_fraud == 1:\n",
    "        return transaction_value * 0\n",
    "    elif risk_score == \"Medium Risk\" and client_decision == 0 and fg_fraud == 1:\n",
    "        return transaction_value * 0\n",
    "    elif risk_score == \"Low Risk\" and client_decision == 0 and fg_fraud == 1:\n",
    "        return transaction_value * 0\n",
    "    elif risk_score == \"High Risk\" and client_decision == 0 and fg_fraud == 0:\n",
    "        return transaction_value * 0\n",
    "    elif risk_score == \"Medium Risk\" and client_decision == 0 and fg_fraud == 0:\n",
    "        return transaction_value * 0\n",
    "    elif risk_score == \"Low Risk\" and client_decision == 0 and fg_fraud == 0:\n",
    "        return transaction_value * 0"
   ]
  },
  {
   "cell_type": "code",
   "execution_count": 41,
   "id": "780eeb75-c99e-4d2d-b8ce-58e40135e50e",
   "metadata": {
    "tags": []
   },
   "outputs": [],
   "source": [
    "for index, row in merged_df_clean.iterrows():\n",
    "    merged_df_clean.loc[index, 'calculated_value'] = calculate_transaction_value(row['risk_score'], \n",
    "                                                                     row['client_decision'], \n",
    "                                                                     row['fg_fraud'], \n",
    "                                                                     row['transaction_value'])"
   ]
  },
  {
   "cell_type": "code",
   "execution_count": 33,
   "id": "49611918-042b-4210-a4d9-3e115a6c0252",
   "metadata": {},
   "outputs": [
    {
     "name": "stdout",
     "output_type": "stream",
     "text": [
      "3874193.4442999996\n"
     ]
    }
   ],
   "source": [
    "new_dec_flow= merged_df_clean['calculated_value'].sum()\n",
    "print(new_dec_flow)"
   ]
  },
  {
   "cell_type": "code",
   "execution_count": 34,
   "id": "80f8b624-cb87-4100-af83-c65dc52d54e5",
   "metadata": {
    "tags": []
   },
   "outputs": [
    {
     "name": "stdout",
     "output_type": "stream",
     "text": [
      "risk_score\n",
      "High Risk     -1242578.666\n",
      "Low Risk       4658246.586\n",
      "Medium Risk     458525.524\n",
      "Name: calculated_value, dtype: float64\n"
     ]
    }
   ],
   "source": [
    "soma_por_categoria = merged_df_clean.groupby('risk_score')['calculated_value'].sum()\n",
    "print(soma_por_categoria)"
   ]
  },
  {
   "cell_type": "markdown",
   "id": "f0401966-5eb1-4a7c-ab71-5c1fa4d47980",
   "metadata": {
    "tags": []
   },
   "source": [
    "## Section 5.1 - Old Decision"
   ]
  },
  {
   "cell_type": "code",
   "execution_count": 35,
   "id": "0bfd6fd3-6f0a-4296-bc27-78aae48b3d23",
   "metadata": {},
   "outputs": [],
   "source": [
    "def old_decision_flow(transaction_value, client_decision, fg_fraud): # assuming that declined by the client doesn't generate gains or loses, it has the cost for the 2 FA\n",
    "    if client_decision == 1 and fg_fraud == 0:\n",
    "        return (transaction_value * 0.15) - 0.05\n",
    "    elif client_decision == 1 and fg_fraud == 1:\n",
    "        return ((transaction_value * 0.15) * -1) - 0.05\n",
    "    elif client_decision == 0 and fg_fraud == 0:\n",
    "        return -0.05\n",
    "    else:\n",
    "        return -0.05"
   ]
  },
  {
   "cell_type": "code",
   "execution_count": 42,
   "id": "8d45a6b3-843a-4437-b62b-eb90bab4bbfe",
   "metadata": {},
   "outputs": [],
   "source": [
    "for index, row in merged_df_clean.iterrows():\n",
    "    merged_df_clean.loc[index, 'old_dec_flow'] = old_decision_flow(row['transaction_value'], \n",
    "                                                                    row['client_decision'], \n",
    "                                                                    row['fg_fraud'])"
   ]
  },
  {
   "cell_type": "code",
   "execution_count": 37,
   "id": "24c7acc2-af3e-43d4-b157-507322c40a46",
   "metadata": {},
   "outputs": [
    {
     "name": "stdout",
     "output_type": "stream",
     "text": [
      "3136740.9614999997\n"
     ]
    }
   ],
   "source": [
    "old_dec_flow = merged_df_clean['old_dec_flow'].sum()\n",
    "print(old_dec_flow)"
   ]
  },
  {
   "cell_type": "code",
   "execution_count": null,
   "id": "0d6527d5-b024-434e-a0e4-60bfac7552db",
   "metadata": {},
   "outputs": [],
   "source": []
  },
  {
   "cell_type": "code",
   "execution_count": null,
   "id": "1024b91e-c88e-429e-8e72-2c8afd340652",
   "metadata": {},
   "outputs": [],
   "source": []
  }
 ],
 "metadata": {
  "kernelspec": {
   "display_name": "Python 3 (ipykernel)",
   "language": "python",
   "name": "python3"
  },
  "language_info": {
   "codemirror_mode": {
    "name": "ipython",
    "version": 3
   },
   "file_extension": ".py",
   "mimetype": "text/x-python",
   "name": "python",
   "nbconvert_exporter": "python",
   "pygments_lexer": "ipython3",
   "version": "3.11.5"
  }
 },
 "nbformat": 4,
 "nbformat_minor": 5
}
